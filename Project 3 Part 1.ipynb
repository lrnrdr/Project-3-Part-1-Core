{
 "cells": [
  {
   "cell_type": "markdown",
   "id": "2b08ab2c-6b34-4499-83fc-aae5fa42fa41",
   "metadata": {},
   "source": [
    "# Need to change the csv file and update everything "
   ]
  },
  {
   "cell_type": "code",
   "execution_count": 1,
   "id": "3c5569ab-1587-4456-9665-abb825edb5c4",
   "metadata": {},
   "outputs": [],
   "source": [
    "import pandas as pd\n",
    "import numpy as np\n",
    "import matplotlib.pyplot as plt\n",
    "import matplotlib.dates as mdates\n",
    "import matplotlib.ticker as mticks\n",
    "import seaborn as sns\n",
    "import os \n",
    "\n",
    "\n",
    "import missingno as miss\n",
    "import datetime as dt\n",
    "import statsmodels.tsa.api as tsa"
   ]
  },
  {
   "cell_type": "code",
   "execution_count": 2,
   "id": "978566ff-7311-4d74-9ee7-86202a8616c3",
   "metadata": {},
   "outputs": [
    {
     "data": {
      "text/plain": [
       "['Chicago-Crime_2001.csv',\n",
       " 'Chicago-Crime_2002.csv',\n",
       " 'Chicago-Crime_2003.csv',\n",
       " 'Chicago-Crime_2004.csv',\n",
       " 'Chicago-Crime_2005.csv',\n",
       " 'Chicago-Crime_2006.csv',\n",
       " 'Chicago-Crime_2007.csv',\n",
       " 'Chicago-Crime_2008.csv',\n",
       " 'Chicago-Crime_2009.csv',\n",
       " 'Chicago-Crime_2010.csv',\n",
       " 'Chicago-Crime_2011.csv',\n",
       " 'Chicago-Crime_2012.csv',\n",
       " 'Chicago-Crime_2013.csv',\n",
       " 'Chicago-Crime_2014.csv',\n",
       " 'Chicago-Crime_2015.csv',\n",
       " 'Chicago-Crime_2016.csv',\n",
       " 'Chicago-Crime_2017.csv',\n",
       " 'Chicago-Crime_2018.csv',\n",
       " 'Chicago-Crime_2019.csv',\n",
       " 'Chicago-Crime_2020.csv',\n",
       " 'Chicago-Crime_2021.csv',\n",
       " 'Chicago-Crime_2022.csv',\n",
       " 'README.txt']"
      ]
     },
     "execution_count": 2,
     "metadata": {},
     "output_type": "execute_result"
    }
   ],
   "source": [
    "os.listdir('Data')"
   ]
  },
  {
   "cell_type": "code",
   "execution_count": 3,
   "id": "a632ee36-edd7-4ca2-bd21-b86903d7e957",
   "metadata": {},
   "outputs": [],
   "source": [
    "# this remomes Readme.txt    [each for each in os.listdir('Data') if each.endswith('csv')]\n",
    "# then saves as variable \n",
    "fps = [each for each in os.listdir('Data') if each.endswith('csv')]"
   ]
  },
  {
   "cell_type": "code",
   "execution_count": 4,
   "id": "1bdbeedd-fc7a-4eed-acaa-2cdb9dcddf21",
   "metadata": {},
   "outputs": [
    {
     "data": {
      "text/plain": [
       "['Chicago-Crime_2001.csv',\n",
       " 'Chicago-Crime_2002.csv',\n",
       " 'Chicago-Crime_2003.csv',\n",
       " 'Chicago-Crime_2004.csv',\n",
       " 'Chicago-Crime_2005.csv',\n",
       " 'Chicago-Crime_2006.csv',\n",
       " 'Chicago-Crime_2007.csv',\n",
       " 'Chicago-Crime_2008.csv',\n",
       " 'Chicago-Crime_2009.csv',\n",
       " 'Chicago-Crime_2010.csv',\n",
       " 'Chicago-Crime_2011.csv',\n",
       " 'Chicago-Crime_2012.csv',\n",
       " 'Chicago-Crime_2013.csv',\n",
       " 'Chicago-Crime_2014.csv',\n",
       " 'Chicago-Crime_2015.csv',\n",
       " 'Chicago-Crime_2016.csv',\n",
       " 'Chicago-Crime_2017.csv',\n",
       " 'Chicago-Crime_2018.csv',\n",
       " 'Chicago-Crime_2019.csv',\n",
       " 'Chicago-Crime_2020.csv',\n",
       " 'Chicago-Crime_2021.csv',\n",
       " 'Chicago-Crime_2022.csv']"
      ]
     },
     "execution_count": 4,
     "metadata": {},
     "output_type": "execute_result"
    }
   ],
   "source": [
    "fps"
   ]
  },
  {
   "cell_type": "code",
   "execution_count": 5,
   "id": "553ccf6e-2243-4627-8c6f-5e1898dafeb2",
   "metadata": {},
   "outputs": [],
   "source": [
    "# list of data frames and save as variable\n",
    "df_list = [pd.read_csv(\"Data/\"+ each) for each in fps]"
   ]
  },
  {
   "cell_type": "code",
   "execution_count": 6,
   "id": "13e7a7f2-16c7-4579-9721-53d0ae3023fc",
   "metadata": {},
   "outputs": [],
   "source": [
    "# connecting the dataframes \n",
    "df = pd.concat(df_list)"
   ]
  },
  {
   "cell_type": "code",
   "execution_count": 7,
   "id": "3c5b2a5b-72bd-49a4-8d98-af186b7f55b1",
   "metadata": {},
   "outputs": [
    {
     "name": "stdout",
     "output_type": "stream",
     "text": [
      "<class 'pandas.core.frame.DataFrame'>\n",
      "Int64Index: 7713109 entries, 0 to 238857\n",
      "Data columns (total 12 columns):\n",
      " #   Column                Dtype  \n",
      "---  ------                -----  \n",
      " 0   ID                    int64  \n",
      " 1   Date                  object \n",
      " 2   Primary Type          object \n",
      " 3   Description           object \n",
      " 4   Location Description  object \n",
      " 5   Arrest                bool   \n",
      " 6   Domestic              bool   \n",
      " 7   Beat                  int64  \n",
      " 8   District              float64\n",
      " 9   Ward                  float64\n",
      " 10  Latitude              float64\n",
      " 11  Longitude             float64\n",
      "dtypes: bool(2), float64(4), int64(2), object(4)\n",
      "memory usage: 662.0+ MB\n"
     ]
    }
   ],
   "source": [
    "df.info()"
   ]
  },
  {
   "cell_type": "code",
   "execution_count": 8,
   "id": "bbd99a4e-4c09-4d5a-a306-8066b499f935",
   "metadata": {},
   "outputs": [
    {
     "data": {
      "text/html": [
       "<div>\n",
       "<style scoped>\n",
       "    .dataframe tbody tr th:only-of-type {\n",
       "        vertical-align: middle;\n",
       "    }\n",
       "\n",
       "    .dataframe tbody tr th {\n",
       "        vertical-align: top;\n",
       "    }\n",
       "\n",
       "    .dataframe thead th {\n",
       "        text-align: right;\n",
       "    }\n",
       "</style>\n",
       "<table border=\"1\" class=\"dataframe\">\n",
       "  <thead>\n",
       "    <tr style=\"text-align: right;\">\n",
       "      <th></th>\n",
       "      <th>ID</th>\n",
       "      <th>Date</th>\n",
       "      <th>Primary Type</th>\n",
       "      <th>Description</th>\n",
       "      <th>Location Description</th>\n",
       "      <th>Arrest</th>\n",
       "      <th>Domestic</th>\n",
       "      <th>Beat</th>\n",
       "      <th>District</th>\n",
       "      <th>Ward</th>\n",
       "      <th>Latitude</th>\n",
       "      <th>Longitude</th>\n",
       "    </tr>\n",
       "  </thead>\n",
       "  <tbody>\n",
       "    <tr>\n",
       "      <th>0</th>\n",
       "      <td>1326041</td>\n",
       "      <td>01/01/2001 01:00:00 AM</td>\n",
       "      <td>BATTERY</td>\n",
       "      <td>SIMPLE</td>\n",
       "      <td>RESIDENCE</td>\n",
       "      <td>False</td>\n",
       "      <td>False</td>\n",
       "      <td>1624</td>\n",
       "      <td>16.0</td>\n",
       "      <td>NaN</td>\n",
       "      <td>41.957850</td>\n",
       "      <td>-87.749185</td>\n",
       "    </tr>\n",
       "    <tr>\n",
       "      <th>1</th>\n",
       "      <td>1319931</td>\n",
       "      <td>01/01/2001 01:00:00 PM</td>\n",
       "      <td>BATTERY</td>\n",
       "      <td>SIMPLE</td>\n",
       "      <td>RESIDENCE</td>\n",
       "      <td>False</td>\n",
       "      <td>True</td>\n",
       "      <td>825</td>\n",
       "      <td>8.0</td>\n",
       "      <td>NaN</td>\n",
       "      <td>41.783892</td>\n",
       "      <td>-87.684841</td>\n",
       "    </tr>\n",
       "    <tr>\n",
       "      <th>2</th>\n",
       "      <td>1324743</td>\n",
       "      <td>01/01/2001 01:00:00 PM</td>\n",
       "      <td>GAMBLING</td>\n",
       "      <td>ILLEGAL ILL LOTTERY</td>\n",
       "      <td>STREET</td>\n",
       "      <td>True</td>\n",
       "      <td>False</td>\n",
       "      <td>313</td>\n",
       "      <td>3.0</td>\n",
       "      <td>NaN</td>\n",
       "      <td>41.780412</td>\n",
       "      <td>-87.611970</td>\n",
       "    </tr>\n",
       "  </tbody>\n",
       "</table>\n",
       "</div>"
      ],
      "text/plain": [
       "        ID                    Date Primary Type          Description  \\\n",
       "0  1326041  01/01/2001 01:00:00 AM      BATTERY               SIMPLE   \n",
       "1  1319931  01/01/2001 01:00:00 PM      BATTERY               SIMPLE   \n",
       "2  1324743  01/01/2001 01:00:00 PM     GAMBLING  ILLEGAL ILL LOTTERY   \n",
       "\n",
       "  Location Description  Arrest  Domestic  Beat  District  Ward   Latitude  \\\n",
       "0            RESIDENCE   False     False  1624      16.0   NaN  41.957850   \n",
       "1            RESIDENCE   False      True   825       8.0   NaN  41.783892   \n",
       "2               STREET    True     False   313       3.0   NaN  41.780412   \n",
       "\n",
       "   Longitude  \n",
       "0 -87.749185  \n",
       "1 -87.684841  \n",
       "2 -87.611970  "
      ]
     },
     "execution_count": 8,
     "metadata": {},
     "output_type": "execute_result"
    }
   ],
   "source": [
    "df.head(3)"
   ]
  },
  {
   "cell_type": "code",
   "execution_count": 9,
   "id": "58d18ff3-fdf9-4261-9ee1-921dc7836695",
   "metadata": {},
   "outputs": [],
   "source": [
    "import holidays\n",
    "import datetime as dt\n",
    "from holidays import country_holidays\n"
   ]
  },
  {
   "cell_type": "code",
   "execution_count": 10,
   "id": "e92eeaee-e80f-43d5-b15d-0b048a00999c",
   "metadata": {},
   "outputs": [
    {
     "data": {
      "text/plain": [
       "DatetimeIndex(['2001-01-01 01:00:00', '2001-01-02 01:00:00',\n",
       "               '2001-01-03 01:00:00', '2001-01-04 01:00:00',\n",
       "               '2001-01-05 01:00:00', '2001-01-06 01:00:00',\n",
       "               '2001-01-07 01:00:00', '2001-01-08 01:00:00',\n",
       "               '2001-01-09 01:00:00', '2001-01-10 01:00:00',\n",
       "               ...\n",
       "               '2022-12-22 01:00:00', '2022-12-23 01:00:00',\n",
       "               '2022-12-24 01:00:00', '2022-12-25 01:00:00',\n",
       "               '2022-12-26 01:00:00', '2022-12-27 01:00:00',\n",
       "               '2022-12-28 01:00:00', '2022-12-29 01:00:00',\n",
       "               '2022-12-30 01:00:00', '2022-12-31 01:00:00'],\n",
       "              dtype='datetime64[ns]', length=8035, freq='D')"
      ]
     },
     "execution_count": 10,
     "metadata": {},
     "output_type": "execute_result"
    }
   ],
   "source": [
    "## making a date range that covers full dataset\n",
    "all_days = pd.date_range(df[\"Date\"].min(), df[\"Date\"].max())\n",
    "all_days\n",
    "\n"
   ]
  },
  {
   "cell_type": "code",
   "execution_count": 11,
   "id": "bb818e20-b211-4a0f-8422-0580749c5f9f",
   "metadata": {},
   "outputs": [
    {
     "data": {
      "text/plain": [
       "holidays.country_holidays('US')"
      ]
     },
     "execution_count": 11,
     "metadata": {},
     "output_type": "execute_result"
    }
   ],
   "source": [
    "## Create an instance of the US country holidays.\n",
    "us_holidays = country_holidays('US')\n",
    "us_holidays\n"
   ]
  },
  {
   "cell_type": "code",
   "execution_count": 12,
   "id": "f9ffd6ce-c6e9-4596-a5c3-5559674e4ec2",
   "metadata": {},
   "outputs": [
    {
     "name": "stdout",
     "output_type": "stream",
     "text": [
      "2001-01-01 01:00:00\n"
     ]
    },
    {
     "data": {
      "text/plain": [
       "\"New Year's Day\""
      ]
     },
     "execution_count": 12,
     "metadata": {},
     "output_type": "execute_result"
    }
   ],
   "source": [
    "## Testing first date\n",
    "print(all_days[0])\n",
    "us_holidays.get(all_days[0])\n"
   ]
  },
  {
   "cell_type": "code",
   "execution_count": 13,
   "id": "cb030fc3-39de-4f75-a822-7e2db180acc8",
   "metadata": {},
   "outputs": [
    {
     "data": {
      "text/plain": [
       "[\"New Year's Day\", None, None, None, None]"
      ]
     },
     "execution_count": 13,
     "metadata": {},
     "output_type": "execute_result"
    }
   ],
   "source": [
    "## Getting us holidays for all dates\n",
    "holiday_list = [us_holidays.get(day) for day in all_days]\n",
    "holiday_list[:5]\n",
    "\n"
   ]
  },
  {
   "cell_type": "code",
   "execution_count": 18,
   "id": "2e361adb-aac6-4d37-be59-1df7dc19e740",
   "metadata": {},
   "outputs": [
    {
     "data": {
      "text/plain": [
       "holidays.country_holidays('US')"
      ]
     },
     "execution_count": 18,
     "metadata": {},
     "output_type": "execute_result"
    }
   ],
   "source": [
    "# Getting Sub-Region Holidays\n",
    "# For a specific subdivisions (e.g. state or province):\n",
    "us_holidays = country_holidays('US')\n",
    "us_holidays\n",
    "\n"
   ]
  },
  {
   "cell_type": "code",
   "execution_count": 19,
   "id": "940c5574-a537-4e5c-b9fc-4f7fdcb5a5dc",
   "metadata": {},
   "outputs": [
    {
     "ename": "KeyboardInterrupt",
     "evalue": "",
     "output_type": "error",
     "traceback": [
      "\u001b[1;31m---------------------------------------------------------------------------\u001b[0m",
      "\u001b[1;31mKeyboardInterrupt\u001b[0m                         Traceback (most recent call last)",
      "Cell \u001b[1;32mIn[19], line 2\u001b[0m\n\u001b[0;32m      1\u001b[0m \u001b[38;5;66;03m## Saving both holiday types as columns\u001b[39;00m\n\u001b[1;32m----> 2\u001b[0m df[\u001b[38;5;124m\"\u001b[39m\u001b[38;5;124mUS Holiday\u001b[39m\u001b[38;5;124m\"\u001b[39m] \u001b[38;5;241m=\u001b[39m [us_holidays\u001b[38;5;241m.\u001b[39mget(day) \u001b[38;5;28;01mfor\u001b[39;00m day \u001b[38;5;129;01min\u001b[39;00m df[\u001b[38;5;124m'\u001b[39m\u001b[38;5;124mDate\u001b[39m\u001b[38;5;124m'\u001b[39m]]\n\u001b[0;32m      3\u001b[0m df\u001b[38;5;241m.\u001b[39mhead()\n",
      "Cell \u001b[1;32mIn[19], line 2\u001b[0m, in \u001b[0;36m<listcomp>\u001b[1;34m(.0)\u001b[0m\n\u001b[0;32m      1\u001b[0m \u001b[38;5;66;03m## Saving both holiday types as columns\u001b[39;00m\n\u001b[1;32m----> 2\u001b[0m df[\u001b[38;5;124m\"\u001b[39m\u001b[38;5;124mUS Holiday\u001b[39m\u001b[38;5;124m\"\u001b[39m] \u001b[38;5;241m=\u001b[39m [\u001b[43mus_holidays\u001b[49m\u001b[38;5;241;43m.\u001b[39;49m\u001b[43mget\u001b[49m\u001b[43m(\u001b[49m\u001b[43mday\u001b[49m\u001b[43m)\u001b[49m \u001b[38;5;28;01mfor\u001b[39;00m day \u001b[38;5;129;01min\u001b[39;00m df[\u001b[38;5;124m'\u001b[39m\u001b[38;5;124mDate\u001b[39m\u001b[38;5;124m'\u001b[39m]]\n\u001b[0;32m      3\u001b[0m df\u001b[38;5;241m.\u001b[39mhead()\n",
      "File \u001b[1;32m~\\anaconda3\\envs\\dojo-env\\lib\\site-packages\\holidays\\holiday_base.py:695\u001b[0m, in \u001b[0;36mHolidayBase.get\u001b[1;34m(self, key, default)\u001b[0m\n\u001b[0;32m    670\u001b[0m \u001b[38;5;28;01mdef\u001b[39;00m \u001b[38;5;21mget\u001b[39m(\n\u001b[0;32m    671\u001b[0m     \u001b[38;5;28mself\u001b[39m,\n\u001b[0;32m    672\u001b[0m     key: DateLike,\n\u001b[0;32m    673\u001b[0m     default: Union[\u001b[38;5;28mstr\u001b[39m, Any] \u001b[38;5;241m=\u001b[39m \u001b[38;5;28;01mNone\u001b[39;00m,\n\u001b[0;32m    674\u001b[0m ) \u001b[38;5;241m-\u001b[39m\u001b[38;5;241m>\u001b[39m Union[\u001b[38;5;28mstr\u001b[39m, Any]:\n\u001b[0;32m    675\u001b[0m \u001b[38;5;250m    \u001b[39m\u001b[38;5;124;03m\"\"\"Return the holiday name for a date if date is a holiday, else\u001b[39;00m\n\u001b[0;32m    676\u001b[0m \u001b[38;5;124;03m    default. If default is not given, it defaults to None, so that this\u001b[39;00m\n\u001b[0;32m    677\u001b[0m \u001b[38;5;124;03m    method never raises a KeyError. If more than one holiday is present,\u001b[39;00m\n\u001b[1;32m   (...)\u001b[0m\n\u001b[0;32m    691\u001b[0m \u001b[38;5;124;03m        The default value to return if no value is found.\u001b[39;00m\n\u001b[0;32m    692\u001b[0m \u001b[38;5;124;03m    \"\"\"\u001b[39;00m\n\u001b[0;32m    693\u001b[0m     \u001b[38;5;28;01mreturn\u001b[39;00m \u001b[38;5;28mdict\u001b[39m\u001b[38;5;241m.\u001b[39mget(\n\u001b[0;32m    694\u001b[0m         \u001b[38;5;28mself\u001b[39m,\n\u001b[1;32m--> 695\u001b[0m         \u001b[38;5;28;43mself\u001b[39;49m\u001b[38;5;241;43m.\u001b[39;49m\u001b[43m__keytransform__\u001b[49m\u001b[43m(\u001b[49m\u001b[43mkey\u001b[49m\u001b[43m)\u001b[49m,\n\u001b[0;32m    696\u001b[0m         default,\n\u001b[0;32m    697\u001b[0m     )\n",
      "File \u001b[1;32m~\\anaconda3\\envs\\dojo-env\\lib\\site-packages\\holidays\\holiday_base.py:440\u001b[0m, in \u001b[0;36mHolidayBase.__keytransform__\u001b[1;34m(self, key)\u001b[0m\n\u001b[0;32m    438\u001b[0m \u001b[38;5;28;01melif\u001b[39;00m \u001b[38;5;28mtype\u001b[39m(key) \u001b[38;5;241m==\u001b[39m \u001b[38;5;28mstr\u001b[39m:  \u001b[38;5;66;03m# Key has `str` type.\u001b[39;00m\n\u001b[0;32m    439\u001b[0m     \u001b[38;5;28;01mtry\u001b[39;00m:\n\u001b[1;32m--> 440\u001b[0m         dt \u001b[38;5;241m=\u001b[39m \u001b[43mparse\u001b[49m\u001b[43m(\u001b[49m\u001b[43mkey\u001b[49m\u001b[43m)\u001b[49m\u001b[38;5;241m.\u001b[39mdate()\n\u001b[0;32m    441\u001b[0m     \u001b[38;5;28;01mexcept\u001b[39;00m (\u001b[38;5;167;01mOverflowError\u001b[39;00m, \u001b[38;5;167;01mValueError\u001b[39;00m):\n\u001b[0;32m    442\u001b[0m         \u001b[38;5;28;01mraise\u001b[39;00m \u001b[38;5;167;01mValueError\u001b[39;00m(\u001b[38;5;124mf\u001b[39m\u001b[38;5;124m\"\u001b[39m\u001b[38;5;124mCannot parse date from string \u001b[39m\u001b[38;5;124m'\u001b[39m\u001b[38;5;132;01m{\u001b[39;00mkey\u001b[38;5;132;01m}\u001b[39;00m\u001b[38;5;124m'\u001b[39m\u001b[38;5;124m\"\u001b[39m)\n",
      "File \u001b[1;32m~\\anaconda3\\envs\\dojo-env\\lib\\site-packages\\dateutil\\parser\\_parser.py:1368\u001b[0m, in \u001b[0;36mparse\u001b[1;34m(timestr, parserinfo, **kwargs)\u001b[0m\n\u001b[0;32m   1366\u001b[0m     \u001b[38;5;28;01mreturn\u001b[39;00m parser(parserinfo)\u001b[38;5;241m.\u001b[39mparse(timestr, \u001b[38;5;241m*\u001b[39m\u001b[38;5;241m*\u001b[39mkwargs)\n\u001b[0;32m   1367\u001b[0m \u001b[38;5;28;01melse\u001b[39;00m:\n\u001b[1;32m-> 1368\u001b[0m     \u001b[38;5;28;01mreturn\u001b[39;00m DEFAULTPARSER\u001b[38;5;241m.\u001b[39mparse(timestr, \u001b[38;5;241m*\u001b[39m\u001b[38;5;241m*\u001b[39mkwargs)\n",
      "File \u001b[1;32m~\\anaconda3\\envs\\dojo-env\\lib\\site-packages\\dateutil\\parser\\_parser.py:640\u001b[0m, in \u001b[0;36mparser.parse\u001b[1;34m(self, timestr, default, ignoretz, tzinfos, **kwargs)\u001b[0m\n\u001b[0;32m    636\u001b[0m \u001b[38;5;28;01mif\u001b[39;00m default \u001b[38;5;129;01mis\u001b[39;00m \u001b[38;5;28;01mNone\u001b[39;00m:\n\u001b[0;32m    637\u001b[0m     default \u001b[38;5;241m=\u001b[39m datetime\u001b[38;5;241m.\u001b[39mdatetime\u001b[38;5;241m.\u001b[39mnow()\u001b[38;5;241m.\u001b[39mreplace(hour\u001b[38;5;241m=\u001b[39m\u001b[38;5;241m0\u001b[39m, minute\u001b[38;5;241m=\u001b[39m\u001b[38;5;241m0\u001b[39m,\n\u001b[0;32m    638\u001b[0m                                               second\u001b[38;5;241m=\u001b[39m\u001b[38;5;241m0\u001b[39m, microsecond\u001b[38;5;241m=\u001b[39m\u001b[38;5;241m0\u001b[39m)\n\u001b[1;32m--> 640\u001b[0m res, skipped_tokens \u001b[38;5;241m=\u001b[39m \u001b[38;5;28mself\u001b[39m\u001b[38;5;241m.\u001b[39m_parse(timestr, \u001b[38;5;241m*\u001b[39m\u001b[38;5;241m*\u001b[39mkwargs)\n\u001b[0;32m    642\u001b[0m \u001b[38;5;28;01mif\u001b[39;00m res \u001b[38;5;129;01mis\u001b[39;00m \u001b[38;5;28;01mNone\u001b[39;00m:\n\u001b[0;32m    643\u001b[0m     \u001b[38;5;28;01mraise\u001b[39;00m ParserError(\u001b[38;5;124m\"\u001b[39m\u001b[38;5;124mUnknown string format: \u001b[39m\u001b[38;5;132;01m%s\u001b[39;00m\u001b[38;5;124m\"\u001b[39m, timestr)\n",
      "File \u001b[1;32m~\\anaconda3\\envs\\dojo-env\\lib\\site-packages\\dateutil\\parser\\_parser.py:740\u001b[0m, in \u001b[0;36mparser._parse\u001b[1;34m(self, timestr, dayfirst, yearfirst, fuzzy, fuzzy_with_tokens)\u001b[0m\n\u001b[0;32m    736\u001b[0m     value \u001b[38;5;241m=\u001b[39m \u001b[38;5;28;01mNone\u001b[39;00m\n\u001b[0;32m    738\u001b[0m \u001b[38;5;28;01mif\u001b[39;00m value \u001b[38;5;129;01mis\u001b[39;00m \u001b[38;5;129;01mnot\u001b[39;00m \u001b[38;5;28;01mNone\u001b[39;00m:\n\u001b[0;32m    739\u001b[0m     \u001b[38;5;66;03m# Numeric token\u001b[39;00m\n\u001b[1;32m--> 740\u001b[0m     i \u001b[38;5;241m=\u001b[39m \u001b[38;5;28;43mself\u001b[39;49m\u001b[38;5;241;43m.\u001b[39;49m\u001b[43m_parse_numeric_token\u001b[49m\u001b[43m(\u001b[49m\u001b[43ml\u001b[49m\u001b[43m,\u001b[49m\u001b[43m \u001b[49m\u001b[43mi\u001b[49m\u001b[43m,\u001b[49m\u001b[43m \u001b[49m\u001b[43minfo\u001b[49m\u001b[43m,\u001b[49m\u001b[43m \u001b[49m\u001b[43mymd\u001b[49m\u001b[43m,\u001b[49m\u001b[43m \u001b[49m\u001b[43mres\u001b[49m\u001b[43m,\u001b[49m\u001b[43m \u001b[49m\u001b[43mfuzzy\u001b[49m\u001b[43m)\u001b[49m\n\u001b[0;32m    742\u001b[0m \u001b[38;5;66;03m# Check weekday\u001b[39;00m\n\u001b[0;32m    743\u001b[0m \u001b[38;5;28;01melif\u001b[39;00m info\u001b[38;5;241m.\u001b[39mweekday(l[i]) \u001b[38;5;129;01mis\u001b[39;00m \u001b[38;5;129;01mnot\u001b[39;00m \u001b[38;5;28;01mNone\u001b[39;00m:\n",
      "File \u001b[1;32m~\\anaconda3\\envs\\dojo-env\\lib\\site-packages\\dateutil\\parser\\_parser.py:929\u001b[0m, in \u001b[0;36mparser._parse_numeric_token\u001b[1;34m(self, tokens, idx, info, ymd, res, fuzzy)\u001b[0m\n\u001b[0;32m    926\u001b[0m         \u001b[38;5;28;01mif\u001b[39;00m len_li \u001b[38;5;241m>\u001b[39m \u001b[38;5;241m12\u001b[39m:\n\u001b[0;32m    927\u001b[0m             res\u001b[38;5;241m.\u001b[39msecond \u001b[38;5;241m=\u001b[39m \u001b[38;5;28mint\u001b[39m(s[\u001b[38;5;241m12\u001b[39m:])\n\u001b[1;32m--> 929\u001b[0m \u001b[38;5;28;01melif\u001b[39;00m \u001b[38;5;28;43mself\u001b[39;49m\u001b[38;5;241;43m.\u001b[39;49m\u001b[43m_find_hms_idx\u001b[49m\u001b[43m(\u001b[49m\u001b[43midx\u001b[49m\u001b[43m,\u001b[49m\u001b[43m \u001b[49m\u001b[43mtokens\u001b[49m\u001b[43m,\u001b[49m\u001b[43m \u001b[49m\u001b[43minfo\u001b[49m\u001b[43m,\u001b[49m\u001b[43m \u001b[49m\u001b[43mallow_jump\u001b[49m\u001b[38;5;241;43m=\u001b[39;49m\u001b[38;5;28;43;01mTrue\u001b[39;49;00m\u001b[43m)\u001b[49m \u001b[38;5;129;01mis\u001b[39;00m \u001b[38;5;129;01mnot\u001b[39;00m \u001b[38;5;28;01mNone\u001b[39;00m:\n\u001b[0;32m    930\u001b[0m     \u001b[38;5;66;03m# HH[ ]h or MM[ ]m or SS[.ss][ ]s\u001b[39;00m\n\u001b[0;32m    931\u001b[0m     hms_idx \u001b[38;5;241m=\u001b[39m \u001b[38;5;28mself\u001b[39m\u001b[38;5;241m.\u001b[39m_find_hms_idx(idx, tokens, info, allow_jump\u001b[38;5;241m=\u001b[39m\u001b[38;5;28;01mTrue\u001b[39;00m)\n\u001b[0;32m    932\u001b[0m     (idx, hms) \u001b[38;5;241m=\u001b[39m \u001b[38;5;28mself\u001b[39m\u001b[38;5;241m.\u001b[39m_parse_hms(idx, tokens, info, hms_idx)\n",
      "File \u001b[1;32m~\\anaconda3\\envs\\dojo-env\\lib\\site-packages\\dateutil\\parser\\_parser.py:1007\u001b[0m, in \u001b[0;36mparser._find_hms_idx\u001b[1;34m(self, idx, tokens, info, allow_jump)\u001b[0m\n\u001b[0;32m   1006\u001b[0m \u001b[38;5;28;01mdef\u001b[39;00m \u001b[38;5;21m_find_hms_idx\u001b[39m(\u001b[38;5;28mself\u001b[39m, idx, tokens, info, allow_jump):\n\u001b[1;32m-> 1007\u001b[0m     len_l \u001b[38;5;241m=\u001b[39m \u001b[38;5;28;43mlen\u001b[39;49m\u001b[43m(\u001b[49m\u001b[43mtokens\u001b[49m\u001b[43m)\u001b[49m\n\u001b[0;32m   1009\u001b[0m     \u001b[38;5;28;01mif\u001b[39;00m idx\u001b[38;5;241m+\u001b[39m\u001b[38;5;241m1\u001b[39m \u001b[38;5;241m<\u001b[39m len_l \u001b[38;5;129;01mand\u001b[39;00m info\u001b[38;5;241m.\u001b[39mhms(tokens[idx\u001b[38;5;241m+\u001b[39m\u001b[38;5;241m1\u001b[39m]) \u001b[38;5;129;01mis\u001b[39;00m \u001b[38;5;129;01mnot\u001b[39;00m \u001b[38;5;28;01mNone\u001b[39;00m:\n\u001b[0;32m   1010\u001b[0m         \u001b[38;5;66;03m# There is an \"h\", \"m\", or \"s\" label following this token.  We take\u001b[39;00m\n\u001b[0;32m   1011\u001b[0m         \u001b[38;5;66;03m# assign the upcoming label to the current token.\u001b[39;00m\n\u001b[0;32m   1012\u001b[0m         \u001b[38;5;66;03m# e.g. the \"12\" in 12h\"\u001b[39;00m\n\u001b[0;32m   1013\u001b[0m         hms_idx \u001b[38;5;241m=\u001b[39m idx \u001b[38;5;241m+\u001b[39m \u001b[38;5;241m1\u001b[39m\n",
      "\u001b[1;31mKeyboardInterrupt\u001b[0m: "
     ]
    }
   ],
   "source": [
    "## Saving both holiday types as columns\n",
    "df[\"US Holiday\"] = [us_holidays.get(day) for day in df['Date']]\n",
    "df.head()\n",
    "\n"
   ]
  },
  {
   "cell_type": "code",
   "execution_count": null,
   "id": "3cfff200-bb0c-4a77-936a-b07ea26bd541",
   "metadata": {},
   "outputs": [],
   "source": [
    "## US Holidays\n",
    "df['US Holiday'].value_counts"
   ]
  },
  {
   "cell_type": "code",
   "execution_count": null,
   "id": "355eb954-97f7-4a84-b246-66db1119a6b6",
   "metadata": {},
   "outputs": [],
   "source": [
    "ax = sns.barplot(data=df, x='US Holiday',y='Total_Incidents',estimator=np.sum)\n",
    "ax.set_xticklabels(ax.get_xticklabels(),rotation=45, ha='right');"
   ]
  },
  {
   "cell_type": "code",
   "execution_count": null,
   "id": "67334c80-ddfc-4dd0-91c4-97ae9695f613",
   "metadata": {},
   "outputs": [],
   "source": [
    "## Saving a binary is holiday feature\n",
    "df['Is_Holiday'] = df['US Holiday'].notna()\n",
    "df['Is_Holiday'].value_counts()\n",
    "\n"
   ]
  },
  {
   "cell_type": "code",
   "execution_count": null,
   "id": "322bc1ac-c21f-4e18-800a-7b949dc3fc0a",
   "metadata": {},
   "outputs": [],
   "source": []
  }
 ],
 "metadata": {
  "kernelspec": {
   "display_name": "Python (dojo-env)",
   "language": "python",
   "name": "dojo-env"
  },
  "language_info": {
   "codemirror_mode": {
    "name": "ipython",
    "version": 3
   },
   "file_extension": ".py",
   "mimetype": "text/x-python",
   "name": "python",
   "nbconvert_exporter": "python",
   "pygments_lexer": "ipython3",
   "version": "3.10.10"
  },
  "widgets": {
   "application/vnd.jupyter.widget-state+json": {
    "state": {},
    "version_major": 2,
    "version_minor": 0
   }
  }
 },
 "nbformat": 4,
 "nbformat_minor": 5
}
