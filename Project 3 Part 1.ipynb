{
 "cells": [
  {
   "cell_type": "markdown",
   "id": "2b08ab2c-6b34-4499-83fc-aae5fa42fa41",
   "metadata": {},
   "source": [
    "# Need to change the csv file and update everything "
   ]
  },
  {
   "cell_type": "code",
   "execution_count": 1,
   "id": "3c5569ab-1587-4456-9665-abb825edb5c4",
   "metadata": {},
   "outputs": [],
   "source": [
    "import pandas as pd\n",
    "import numpy as np\n",
    "import matplotlib.pyplot as plt\n",
    "import matplotlib.dates as mdates\n",
    "import matplotlib.ticker as mticks\n",
    "import seaborn as sns\n",
    "\n",
    "\n",
    "import missingno as miss\n",
    "import datetime as dt\n",
    "import statsmodels.tsa.api as tsa"
   ]
  },
  {
   "cell_type": "code",
   "execution_count": null,
   "id": "b6c034df-7f55-445a-b1d3-b14acc15ac78",
   "metadata": {},
   "outputs": [],
   "source": [
    "df  = pd.read_csv(\"Data/City_zhvi_uc_sfrcondo_tier_0.33_0.67_sm_sa_month.csv\", low_memory=False)\n",
    "df"
   ]
  },
  {
   "cell_type": "code",
   "execution_count": null,
   "id": "3c5b2a5b-72bd-49a4-8d98-af186b7f55b1",
   "metadata": {},
   "outputs": [],
   "source": [
    "df.info()"
   ]
  },
  {
   "cell_type": "code",
   "execution_count": null,
   "id": "bbd99a4e-4c09-4d5a-a306-8066b499f935",
   "metadata": {},
   "outputs": [],
   "source": [
    "df.head(3)\n"
   ]
  },
  {
   "cell_type": "code",
   "execution_count": null,
   "id": "fb1a4e92-84b5-49c0-91a7-dbd38e56cff6",
   "metadata": {},
   "outputs": [],
   "source": [
    "id_vars = df.columns[:8]\n",
    "id_vars"
   ]
  },
  {
   "cell_type": "code",
   "execution_count": null,
   "id": "00bbdb2b-0f49-4a42-b278-0757e2fcd74b",
   "metadata": {},
   "outputs": [],
   "source": [
    "melted = pd.melt(df,id_vars=id_vars, value_name='Value',var_name='Date')\n",
    "melted"
   ]
  },
  {
   "cell_type": "code",
   "execution_count": null,
   "id": "3081e04c-4865-4641-954d-65f1561727fd",
   "metadata": {},
   "outputs": [],
   "source": [
    "melted.dtypes"
   ]
  },
  {
   "cell_type": "code",
   "execution_count": null,
   "id": "71d67bf9-8de1-46c6-b136-e794a3446318",
   "metadata": {},
   "outputs": [],
   "source": [
    "melted['Date'][0]"
   ]
  },
  {
   "cell_type": "code",
   "execution_count": null,
   "id": "5b3ac777-8321-4d5d-98e8-7006f5ef56c6",
   "metadata": {},
   "outputs": [],
   "source": [
    "melted.head(3)"
   ]
  },
  {
   "cell_type": "code",
   "execution_count": null,
   "id": "a00d3884-189b-4147-9213-59edfcf3987c",
   "metadata": {},
   "outputs": [],
   "source": [
    "# First, we will convert the 'Date' column values to datetime objects.\n",
    "melted['Date'] = pd.to_datetime(melted['Date'])\n",
    "melted\n"
   ]
  },
  {
   "cell_type": "code",
   "execution_count": null,
   "id": "a1501181-2f08-4573-973f-dbfa797a24cd",
   "metadata": {},
   "outputs": [],
   "source": [
    "melted.dtypes"
   ]
  },
  {
   "cell_type": "code",
   "execution_count": null,
   "id": "92c3b1dc-a3f7-4c2d-a874-c2e2511809d6",
   "metadata": {},
   "outputs": [],
   "source": [
    "# We will need to set Date as our index, but we will NOT resample just yet\n",
    "melted = melted.set_index(\"Date\")\n",
    "melted"
   ]
  },
  {
   "cell_type": "code",
   "execution_count": null,
   "id": "1d989c46-13ba-44f3-9411-800ed5170b92",
   "metadata": {},
   "outputs": [],
   "source": [
    "melted.index"
   ]
  },
  {
   "cell_type": "code",
   "execution_count": null,
   "id": "a2b3806c-90c9-4f1e-b1d1-48eb387b4715",
   "metadata": {},
   "outputs": [],
   "source": [
    "melted.head()"
   ]
  },
  {
   "cell_type": "code",
   "execution_count": null,
   "id": "3f49bd93-f41c-4542-a843-c6bb3dfeac85",
   "metadata": {},
   "outputs": [],
   "source": [
    "melted ['SizeRank'].unique"
   ]
  },
  {
   "cell_type": "code",
   "execution_count": null,
   "id": "fbdd0ecf-0158-4b76-acc4-a033f5e29e75",
   "metadata": {},
   "outputs": [],
   "source": [
    "# Filter the DataFrame to include only the rows with Rank values [0, 1, 2, 3]\n",
    "filtered_melted = melted[melted['SizeRank'].isin([0, 1, 2, 3])]\n",
    "filtered_melted"
   ]
  },
  {
   "cell_type": "code",
   "execution_count": null,
   "id": "de377ae2-2d87-4484-aa55-afaa2d3d87c8",
   "metadata": {},
   "outputs": [],
   "source": [
    "melted.groupby('RegionName').resample(\"M\").asfreq()"
   ]
  }
 ],
 "metadata": {
  "kernelspec": {
   "display_name": "Python (dojo-env)",
   "language": "python",
   "name": "dojo-env"
  },
  "language_info": {
   "codemirror_mode": {
    "name": "ipython",
    "version": 3
   },
   "file_extension": ".py",
   "mimetype": "text/x-python",
   "name": "python",
   "nbconvert_exporter": "python",
   "pygments_lexer": "ipython3",
   "version": "3.10.10"
  },
  "widgets": {
   "application/vnd.jupyter.widget-state+json": {
    "state": {},
    "version_major": 2,
    "version_minor": 0
   }
  }
 },
 "nbformat": 4,
 "nbformat_minor": 5
}
