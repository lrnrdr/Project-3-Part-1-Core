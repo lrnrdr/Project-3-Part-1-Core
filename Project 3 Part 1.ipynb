{
 "cells": [
  {
   "cell_type": "markdown",
   "id": "2b08ab2c-6b34-4499-83fc-aae5fa42fa41",
   "metadata": {},
   "source": [
    "# Need to change the csv file and update everything "
   ]
  },
  {
   "cell_type": "code",
   "execution_count": 3,
   "id": "3c5569ab-1587-4456-9665-abb825edb5c4",
   "metadata": {},
   "outputs": [],
   "source": [
    "import pandas as pd\n",
    "import numpy as np\n",
    "import matplotlib.pyplot as plt\n",
    "import matplotlib.dates as mdates\n",
    "import matplotlib.ticker as mticks\n",
    "import seaborn as sns\n",
    "import os \n",
    "\n",
    "\n",
    "import missingno as miss\n",
    "import datetime as dt\n",
    "import statsmodels.tsa.api as tsa"
   ]
  },
  {
   "cell_type": "code",
   "execution_count": 4,
   "id": "978566ff-7311-4d74-9ee7-86202a8616c3",
   "metadata": {},
   "outputs": [
    {
     "data": {
      "text/plain": [
       "['Chicago-Crime_2001.csv',\n",
       " 'Chicago-Crime_2002.csv',\n",
       " 'Chicago-Crime_2003.csv',\n",
       " 'Chicago-Crime_2004.csv',\n",
       " 'Chicago-Crime_2005.csv',\n",
       " 'Chicago-Crime_2006.csv',\n",
       " 'Chicago-Crime_2007.csv',\n",
       " 'Chicago-Crime_2008.csv',\n",
       " 'Chicago-Crime_2009.csv',\n",
       " 'Chicago-Crime_2010.csv',\n",
       " 'Chicago-Crime_2011.csv',\n",
       " 'Chicago-Crime_2012.csv',\n",
       " 'Chicago-Crime_2013.csv',\n",
       " 'Chicago-Crime_2014.csv',\n",
       " 'Chicago-Crime_2015.csv',\n",
       " 'Chicago-Crime_2016.csv',\n",
       " 'Chicago-Crime_2017.csv',\n",
       " 'Chicago-Crime_2018.csv',\n",
       " 'Chicago-Crime_2019.csv',\n",
       " 'Chicago-Crime_2020.csv',\n",
       " 'Chicago-Crime_2021.csv',\n",
       " 'Chicago-Crime_2022.csv',\n",
       " 'README.txt']"
      ]
     },
     "execution_count": 4,
     "metadata": {},
     "output_type": "execute_result"
    }
   ],
   "source": [
    "os.listdir('Data')"
   ]
  },
  {
   "cell_type": "code",
   "execution_count": 7,
   "id": "a632ee36-edd7-4ca2-bd21-b86903d7e957",
   "metadata": {},
   "outputs": [],
   "source": [
    "# this remomes Readme.txt    [each for each in os.listdir('Data') if each.endswith('csv')]\n",
    "# then saves as variable \n",
    "fps = [each for each in os.listdir('Data') if each.endswith('csv')]"
   ]
  },
  {
   "cell_type": "code",
   "execution_count": 8,
   "id": "1bdbeedd-fc7a-4eed-acaa-2cdb9dcddf21",
   "metadata": {},
   "outputs": [
    {
     "data": {
      "text/plain": [
       "['Chicago-Crime_2001.csv',\n",
       " 'Chicago-Crime_2002.csv',\n",
       " 'Chicago-Crime_2003.csv',\n",
       " 'Chicago-Crime_2004.csv',\n",
       " 'Chicago-Crime_2005.csv',\n",
       " 'Chicago-Crime_2006.csv',\n",
       " 'Chicago-Crime_2007.csv',\n",
       " 'Chicago-Crime_2008.csv',\n",
       " 'Chicago-Crime_2009.csv',\n",
       " 'Chicago-Crime_2010.csv',\n",
       " 'Chicago-Crime_2011.csv',\n",
       " 'Chicago-Crime_2012.csv',\n",
       " 'Chicago-Crime_2013.csv',\n",
       " 'Chicago-Crime_2014.csv',\n",
       " 'Chicago-Crime_2015.csv',\n",
       " 'Chicago-Crime_2016.csv',\n",
       " 'Chicago-Crime_2017.csv',\n",
       " 'Chicago-Crime_2018.csv',\n",
       " 'Chicago-Crime_2019.csv',\n",
       " 'Chicago-Crime_2020.csv',\n",
       " 'Chicago-Crime_2021.csv',\n",
       " 'Chicago-Crime_2022.csv']"
      ]
     },
     "execution_count": 8,
     "metadata": {},
     "output_type": "execute_result"
    }
   ],
   "source": [
    "fps"
   ]
  },
  {
   "cell_type": "code",
   "execution_count": 12,
   "id": "553ccf6e-2243-4627-8c6f-5e1898dafeb2",
   "metadata": {},
   "outputs": [],
   "source": [
    "# list of data frames and save as variable\n",
    "df_list = [pd.read_csv(\"Data/\"+ each) for each in fps]"
   ]
  },
  {
   "cell_type": "code",
   "execution_count": 14,
   "id": "13e7a7f2-16c7-4579-9721-53d0ae3023fc",
   "metadata": {},
   "outputs": [],
   "source": [
    "# connecting the dataframes \n",
    "df = pd.concat(df_list)"
   ]
  },
  {
   "cell_type": "code",
   "execution_count": 15,
   "id": "3c5b2a5b-72bd-49a4-8d98-af186b7f55b1",
   "metadata": {},
   "outputs": [
    {
     "name": "stdout",
     "output_type": "stream",
     "text": [
      "<class 'pandas.core.frame.DataFrame'>\n",
      "Int64Index: 7713109 entries, 0 to 238857\n",
      "Data columns (total 12 columns):\n",
      " #   Column                Dtype  \n",
      "---  ------                -----  \n",
      " 0   ID                    int64  \n",
      " 1   Date                  object \n",
      " 2   Primary Type          object \n",
      " 3   Description           object \n",
      " 4   Location Description  object \n",
      " 5   Arrest                bool   \n",
      " 6   Domestic              bool   \n",
      " 7   Beat                  int64  \n",
      " 8   District              float64\n",
      " 9   Ward                  float64\n",
      " 10  Latitude              float64\n",
      " 11  Longitude             float64\n",
      "dtypes: bool(2), float64(4), int64(2), object(4)\n",
      "memory usage: 662.0+ MB\n"
     ]
    }
   ],
   "source": [
    "df.info()"
   ]
  },
  {
   "cell_type": "code",
   "execution_count": 16,
   "id": "bbd99a4e-4c09-4d5a-a306-8066b499f935",
   "metadata": {},
   "outputs": [
    {
     "data": {
      "text/html": [
       "<div>\n",
       "<style scoped>\n",
       "    .dataframe tbody tr th:only-of-type {\n",
       "        vertical-align: middle;\n",
       "    }\n",
       "\n",
       "    .dataframe tbody tr th {\n",
       "        vertical-align: top;\n",
       "    }\n",
       "\n",
       "    .dataframe thead th {\n",
       "        text-align: right;\n",
       "    }\n",
       "</style>\n",
       "<table border=\"1\" class=\"dataframe\">\n",
       "  <thead>\n",
       "    <tr style=\"text-align: right;\">\n",
       "      <th></th>\n",
       "      <th>ID</th>\n",
       "      <th>Date</th>\n",
       "      <th>Primary Type</th>\n",
       "      <th>Description</th>\n",
       "      <th>Location Description</th>\n",
       "      <th>Arrest</th>\n",
       "      <th>Domestic</th>\n",
       "      <th>Beat</th>\n",
       "      <th>District</th>\n",
       "      <th>Ward</th>\n",
       "      <th>Latitude</th>\n",
       "      <th>Longitude</th>\n",
       "    </tr>\n",
       "  </thead>\n",
       "  <tbody>\n",
       "    <tr>\n",
       "      <th>0</th>\n",
       "      <td>1326041</td>\n",
       "      <td>01/01/2001 01:00:00 AM</td>\n",
       "      <td>BATTERY</td>\n",
       "      <td>SIMPLE</td>\n",
       "      <td>RESIDENCE</td>\n",
       "      <td>False</td>\n",
       "      <td>False</td>\n",
       "      <td>1624</td>\n",
       "      <td>16.0</td>\n",
       "      <td>NaN</td>\n",
       "      <td>41.957850</td>\n",
       "      <td>-87.749185</td>\n",
       "    </tr>\n",
       "    <tr>\n",
       "      <th>1</th>\n",
       "      <td>1319931</td>\n",
       "      <td>01/01/2001 01:00:00 PM</td>\n",
       "      <td>BATTERY</td>\n",
       "      <td>SIMPLE</td>\n",
       "      <td>RESIDENCE</td>\n",
       "      <td>False</td>\n",
       "      <td>True</td>\n",
       "      <td>825</td>\n",
       "      <td>8.0</td>\n",
       "      <td>NaN</td>\n",
       "      <td>41.783892</td>\n",
       "      <td>-87.684841</td>\n",
       "    </tr>\n",
       "    <tr>\n",
       "      <th>2</th>\n",
       "      <td>1324743</td>\n",
       "      <td>01/01/2001 01:00:00 PM</td>\n",
       "      <td>GAMBLING</td>\n",
       "      <td>ILLEGAL ILL LOTTERY</td>\n",
       "      <td>STREET</td>\n",
       "      <td>True</td>\n",
       "      <td>False</td>\n",
       "      <td>313</td>\n",
       "      <td>3.0</td>\n",
       "      <td>NaN</td>\n",
       "      <td>41.780412</td>\n",
       "      <td>-87.611970</td>\n",
       "    </tr>\n",
       "  </tbody>\n",
       "</table>\n",
       "</div>"
      ],
      "text/plain": [
       "        ID                    Date Primary Type          Description  \\\n",
       "0  1326041  01/01/2001 01:00:00 AM      BATTERY               SIMPLE   \n",
       "1  1319931  01/01/2001 01:00:00 PM      BATTERY               SIMPLE   \n",
       "2  1324743  01/01/2001 01:00:00 PM     GAMBLING  ILLEGAL ILL LOTTERY   \n",
       "\n",
       "  Location Description  Arrest  Domestic  Beat  District  Ward   Latitude  \\\n",
       "0            RESIDENCE   False     False  1624      16.0   NaN  41.957850   \n",
       "1            RESIDENCE   False      True   825       8.0   NaN  41.783892   \n",
       "2               STREET    True     False   313       3.0   NaN  41.780412   \n",
       "\n",
       "   Longitude  \n",
       "0 -87.749185  \n",
       "1 -87.684841  \n",
       "2 -87.611970  "
      ]
     },
     "execution_count": 16,
     "metadata": {},
     "output_type": "execute_result"
    }
   ],
   "source": [
    "df.head(3)"
   ]
  },
  {
   "cell_type": "code",
   "execution_count": null,
   "id": "58d18ff3-fdf9-4261-9ee1-921dc7836695",
   "metadata": {},
   "outputs": [],
   "source": []
  }
 ],
 "metadata": {
  "kernelspec": {
   "display_name": "Python (dojo-env)",
   "language": "python",
   "name": "dojo-env"
  },
  "language_info": {
   "codemirror_mode": {
    "name": "ipython",
    "version": 3
   },
   "file_extension": ".py",
   "mimetype": "text/x-python",
   "name": "python",
   "nbconvert_exporter": "python",
   "pygments_lexer": "ipython3",
   "version": "3.10.10"
  },
  "widgets": {
   "application/vnd.jupyter.widget-state+json": {
    "state": {},
    "version_major": 2,
    "version_minor": 0
   }
  }
 },
 "nbformat": 4,
 "nbformat_minor": 5
}
